{
 "cells": [
  {
   "cell_type": "code",
   "execution_count": 1,
   "metadata": {
    "collapsed": false
   },
   "outputs": [
    {
     "name": "stderr",
     "output_type": "stream",
     "text": [
      "\n",
      "Attaching package: ‘igraph’\n",
      "\n"
     ]
    },
    {
     "name": "stderr",
     "output_type": "stream",
     "text": [
      "The following objects are masked from ‘package:stats’:\n",
      "\n",
      "    decompose, spectrum\n",
      "\n"
     ]
    },
    {
     "name": "stderr",
     "output_type": "stream",
     "text": [
      "The following object is masked from ‘package:base’:\n",
      "\n",
      "    union\n",
      "\n"
     ]
    }
   ],
   "source": [
    "#install.packages(\"igraph\")\n",
    "library(\"igraph\")\n",
    "library(\"stringr\")"
   ]
  },
  {
   "cell_type": "code",
   "execution_count": 2,
   "metadata": {
    "collapsed": false
   },
   "outputs": [
   ],
   "source": [
    "data <- read.csv(\"LPSdistrict_list_2009.csv\")\n"
   ]
  },
  {
   "cell_type": "code",
   "execution_count": 3,
   "metadata": {
    "collapsed": false
   },
   "outputs": [
    {
     "data": {
      "text/html": [
       "<table>\n",
       "<caption>A data.frame: 6 × 3</caption>\n",
       "<thead>\n",
       "\t<tr><th></th><th scope=col>ADDRESS</th><th scope=col>SCHOOL</th><th scope=col>X</th></tr>\n",
       "\t<tr><th></th><th scope=col>&lt;fct&gt;</th><th scope=col>&lt;fct&gt;</th><th scope=col>&lt;lgl&gt;</th></tr>\n",
       "</thead>\n",
       "<tbody>\n",
       "\t<tr><th scope=row>1</th><td>Abbott Street </td><td>Geiger  </td><td>NA</td></tr>\n",
       "\t<tr><th scope=row>2</th><td>Acadia Avenue </td><td>Martel  </td><td>NA</td></tr>\n",
       "\t<tr><th scope=row>3</th><td>Acorn Lane    </td><td>McMahon </td><td>NA</td></tr>\n",
       "\t<tr><th scope=row>4</th><td>Adams Avenue  </td><td>Longley </td><td>NA</td></tr>\n",
       "\t<tr><th scope=row>5</th><td>Adele Street  </td><td>Farwell </td><td>NA</td></tr>\n",
       "\t<tr><th scope=row>6</th><td>Adolphe Street</td><td>Montello</td><td>NA</td></tr>\n",
       "</tbody>\n",
       "</table>\n"
      ],
      "text/latex": [
       "A data.frame: 6 × 3\n",
       "\\begin{tabular}{r|lll}\n",
       "  & ADDRESS & SCHOOL & X\\\\\n",
       "  & <fct> & <fct> & <lgl>\\\\\n",
       "\\hline\n",
       "\t1 & Abbott Street  & Geiger   & NA\\\\\n",
       "\t2 & Acadia Avenue  & Martel   & NA\\\\\n",
       "\t3 & Acorn Lane     & McMahon  & NA\\\\\n",
       "\t4 & Adams Avenue   & Longley  & NA\\\\\n",
       "\t5 & Adele Street   & Farwell  & NA\\\\\n",
       "\t6 & Adolphe Street & Montello & NA\\\\\n",
       "\\end{tabular}\n"
      ],
      "text/markdown": [
       "\n",
       "A data.frame: 6 × 3\n",
       "\n",
       "| <!--/--> | ADDRESS &lt;fct&gt; | SCHOOL &lt;fct&gt; | X &lt;lgl&gt; |\n",
       "|---|---|---|---|\n",
       "| 1 | Abbott Street  | Geiger   | NA |\n",
       "| 2 | Acadia Avenue  | Martel   | NA |\n",
       "| 3 | Acorn Lane     | McMahon  | NA |\n",
       "| 4 | Adams Avenue   | Longley  | NA |\n",
       "| 5 | Adele Street   | Farwell  | NA |\n",
       "| 6 | Adolphe Street | Montello | NA |\n",
       "\n"
      ],
      "text/plain": [
       "  ADDRESS        SCHOOL   X \n",
       "1 Abbott Street  Geiger   NA\n",
       "2 Acadia Avenue  Martel   NA\n",
       "3 Acorn Lane     McMahon  NA\n",
       "4 Adams Avenue   Longley  NA\n",
       "5 Adele Street   Farwell  NA\n",
       "6 Adolphe Street Montello NA"
      ]
     },
     "execution_count": 3,
     "metadata": {
     },
     "output_type": "execute_result"
    }
   ],
   "source": [
    "head(data)"
   ]
  },
  {
   "cell_type": "code",
   "execution_count": 4,
   "metadata": {
    "collapsed": false
   },
   "outputs": [
   ],
   "source": [
    "data <- data.frame(data$ADDRESS, data$SCHOOL)"
   ]
  },
  {
   "cell_type": "code",
   "execution_count": 5,
   "metadata": {
    "collapsed": false
   },
   "outputs": [
    {
     "data": {
      "text/html": [
       "<table>\n",
       "<caption>A data.frame: 6 × 2</caption>\n",
       "<thead>\n",
       "\t<tr><th></th><th scope=col>data.ADDRESS</th><th scope=col>data.SCHOOL</th></tr>\n",
       "\t<tr><th></th><th scope=col>&lt;fct&gt;</th><th scope=col>&lt;fct&gt;</th></tr>\n",
       "</thead>\n",
       "<tbody>\n",
       "\t<tr><th scope=row>694</th><td>Wood Street     </td><td>Geiger  </td></tr>\n",
       "\t<tr><th scope=row>695</th><td>Woodheaven Drive</td><td>Martel  </td></tr>\n",
       "\t<tr><th scope=row>696</th><td>Woodlawn Avenue </td><td>Farwell </td></tr>\n",
       "\t<tr><th scope=row>697</th><td>Woodside Drive  </td><td>Montello</td></tr>\n",
       "\t<tr><th scope=row>698</th><td>Woodville Way   </td><td>Montello</td></tr>\n",
       "\t<tr><th scope=row>699</th><td>York Street     </td><td>Martel  </td></tr>\n",
       "</tbody>\n",
       "</table>\n"
      ],
      "text/latex": [
       "A data.frame: 6 × 2\n",
       "\\begin{tabular}{r|ll}\n",
       "  & data.ADDRESS & data.SCHOOL\\\\\n",
       "  & <fct> & <fct>\\\\\n",
       "\\hline\n",
       "\t694 & Wood Street      & Geiger  \\\\\n",
       "\t695 & Woodheaven Drive & Martel  \\\\\n",
       "\t696 & Woodlawn Avenue  & Farwell \\\\\n",
       "\t697 & Woodside Drive   & Montello\\\\\n",
       "\t698 & Woodville Way    & Montello\\\\\n",
       "\t699 & York Street      & Martel  \\\\\n",
       "\\end{tabular}\n"
      ],
      "text/markdown": [
       "\n",
       "A data.frame: 6 × 2\n",
       "\n",
       "| <!--/--> | data.ADDRESS &lt;fct&gt; | data.SCHOOL &lt;fct&gt; |\n",
       "|---|---|---|\n",
       "| 694 | Wood Street      | Geiger   |\n",
       "| 695 | Woodheaven Drive | Martel   |\n",
       "| 696 | Woodlawn Avenue  | Farwell  |\n",
       "| 697 | Woodside Drive   | Montello |\n",
       "| 698 | Woodville Way    | Montello |\n",
       "| 699 | York Street      | Martel   |\n",
       "\n"
      ],
      "text/plain": [
       "    data.ADDRESS     data.SCHOOL\n",
       "694 Wood Street      Geiger     \n",
       "695 Woodheaven Drive Martel     \n",
       "696 Woodlawn Avenue  Farwell    \n",
       "697 Woodside Drive   Montello   \n",
       "698 Woodville Way    Montello   \n",
       "699 York Street      Martel     "
      ]
     },
     "execution_count": 5,
     "metadata": {
     },
     "output_type": "execute_result"
    }
   ],
   "source": [
    "tail(data)"
   ]
  },
  {
   "cell_type": "code",
   "execution_count": 6,
   "metadata": {
    "collapsed": false
   },
   "outputs": [
   ],
   "source": [
    "data <- as.matrix(data)"
   ]
  },
  {
   "cell_type": "code",
   "execution_count": 7,
   "metadata": {
    "collapsed": false
   },
   "outputs": [
   ],
   "source": [
    "data.g <- graph.edgelist(data, directed = TRUE)"
   ]
  },
  {
   "cell_type": "code",
   "execution_count": 8,
   "metadata": {
    "collapsed": false
   },
   "outputs": [
    {
     "data": {
      "text/html": [
       "<table>\n",
       "<caption>A matrix: 6 × 6 of type dbl</caption>\n",
       "<thead>\n",
       "\t<tr><th></th><th scope=col>Geiger</th><th scope=col>Martel</th><th scope=col>McMahon</th><th scope=col>Longley</th><th scope=col>Farwell</th><th scope=col>Montello</th></tr>\n",
       "</thead>\n",
       "<tbody>\n",
       "\t<tr><th scope=row>Abbott Street</th><td>1</td><td>0</td><td>0</td><td>0</td><td>0</td><td>0</td></tr>\n",
       "\t<tr><th scope=row>Acadia Avenue</th><td>0</td><td>1</td><td>0</td><td>0</td><td>0</td><td>0</td></tr>\n",
       "\t<tr><th scope=row>Acorn Lane</th><td>0</td><td>0</td><td>1</td><td>0</td><td>0</td><td>0</td></tr>\n",
       "\t<tr><th scope=row>Adams Avenue</th><td>0</td><td>0</td><td>0</td><td>1</td><td>0</td><td>0</td></tr>\n",
       "\t<tr><th scope=row>Adele Street</th><td>0</td><td>0</td><td>0</td><td>0</td><td>1</td><td>0</td></tr>\n",
       "\t<tr><th scope=row>Adolphe Street</th><td>0</td><td>0</td><td>0</td><td>0</td><td>0</td><td>1</td></tr>\n",
       "</tbody>\n",
       "</table>\n"
      ],
      "text/latex": [
       "A matrix: 6 × 6 of type dbl\n",
       "\\begin{tabular}{r|llllll}\n",
       "  & Geiger & Martel & McMahon & Longley & Farwell & Montello\\\\\n",
       "\\hline\n",
       "\tAbbott Street & 1 & 0 & 0 & 0 & 0 & 0\\\\\n",
       "\tAcadia Avenue & 0 & 1 & 0 & 0 & 0 & 0\\\\\n",
       "\tAcorn Lane & 0 & 0 & 1 & 0 & 0 & 0\\\\\n",
       "\tAdams Avenue & 0 & 0 & 0 & 1 & 0 & 0\\\\\n",
       "\tAdele Street & 0 & 0 & 0 & 0 & 1 & 0\\\\\n",
       "\tAdolphe Street & 0 & 0 & 0 & 0 & 0 & 1\\\\\n",
       "\\end{tabular}\n"
      ],
      "text/markdown": [
       "\n",
       "A matrix: 6 × 6 of type dbl\n",
       "\n",
       "| <!--/--> | Geiger | Martel | McMahon | Longley | Farwell | Montello |\n",
       "|---|---|---|---|---|---|---|\n",
       "| Abbott Street | 1 | 0 | 0 | 0 | 0 | 0 |\n",
       "| Acadia Avenue | 0 | 1 | 0 | 0 | 0 | 0 |\n",
       "| Acorn Lane | 0 | 0 | 1 | 0 | 0 | 0 |\n",
       "| Adams Avenue | 0 | 0 | 0 | 1 | 0 | 0 |\n",
       "| Adele Street | 0 | 0 | 0 | 0 | 1 | 0 |\n",
       "| Adolphe Street | 0 | 0 | 0 | 0 | 0 | 1 |\n",
       "\n"
      ],
      "text/plain": [
       "               Geiger Martel McMahon Longley Farwell Montello\n",
       "Abbott Street  1      0      0       0       0       0       \n",
       "Acadia Avenue  0      1      0       0       0       0       \n",
       "Acorn Lane     0      0      1       0       0       0       \n",
       "Adams Avenue   0      0      0       1       0       0       \n",
       "Adele Street   0      0      0       0       1       0       \n",
       "Adolphe Street 0      0      0       0       0       1       "
      ]
     },
     "execution_count": 8,
     "metadata": {
     },
     "output_type": "execute_result"
    }
   ],
   "source": [
    "V(data.g)$type <- bipartite_mapping(data.g)$type\n",
    "bipart_data <- get.incidence(data.g)\n",
    "head(bipart_data)"
   ]
  },
  {
   "cell_type": "code",
   "execution_count": 9,
   "metadata": {
    "collapsed": false
   },
   "outputs": [
   ],
   "source": [
    "street.net <- bipart_data %*% t(bipart_data)\n",
    "school.net <- t(bipart_data) %*% bipart_data\n",
    "\n",
    "diag(street.net) <- NA\n",
    "diag(school.net) <- NA"
   ]
  },
  {
   "cell_type": "code",
   "execution_count": 10,
   "metadata": {
    "collapsed": false
   },
   "outputs": [
   ],
   "source": [
    "school.g <- graph.adjacency(school.net, mode = \"undirected\", weighted=NULL, diag=FALSE)\n",
    "\n",
    "street.g <- graph.adjacency(street.net, weighted = TRUE, mode = \"undirected\", diag=FALSE)\n",
    "\n",
    "la <- layout_with_fr(street.g)\n",
    "\n",
    "e.wt <- edge_attr(street.g, \"weight\")"
   ]
  },
  {
   "cell_type": "code",
   "execution_count": 11,
   "metadata": {
    "collapsed": false
   },
   "outputs": [
   ],
   "source": [
    "# png(file=\"streetvschool.png\", width=20000, height=20000, res = 150)\n",
    "# plot(street.g, layout=la, rescale = TRUE, vertex.size = 1, edge.width=e.wt, vertex.label=V(street.g)$name, vertex.label.cex = 0.08, vertex.dist = 1)\n",
    "# dev.off()"
   ]
  },
  {
   "cell_type": "code",
   "execution_count": 12,
   "metadata": {
    "collapsed": false
   },
   "outputs": [
   ],
   "source": [
    "data2 <- read.csv(\"Book1.csv\")"
   ]
  },
  {
   "cell_type": "code",
   "execution_count": 13,
   "metadata": {
    "collapsed": false
   },
   "outputs": [
    {
     "data": {
      "text/html": [
       "<table>\n",
       "<caption>A data.frame: 6 × 18</caption>\n",
       "<thead>\n",
       "\t<tr><th></th><th scope=col>Year</th><th scope=col>District.ID</th><th scope=col>District.Name</th><th scope=col>School.ID</th><th scope=col>School.Name</th><th scope=col>Disaggregated</th><th scope=col>Population</th><th scope=col>Assessment</th><th scope=col>Achievement.Level</th><th scope=col>Number.of.Students.Required.to.Test</th><th scope=col>Total.Students.Tested</th><th scope=col>Percentage.of.Students.Tested</th><th scope=col>Number.of.Students.at.Achievement.Level</th><th scope=col>Percentage.of.Students.at.Achievement.Level</th><th scope=col>District...Number.of.Students.at.Achievement.Level</th><th scope=col>District...Percentage.of.Students.at.Achievement.Level</th><th scope=col>Statewide...Number.of.Students.at.Achievement.Level</th><th scope=col>Statewide...Percentage.of.Students.at.Achievement.Level</th></tr>\n",
       "\t<tr><th></th><th scope=col>&lt;fct&gt;</th><th scope=col>&lt;int&gt;</th><th scope=col>&lt;fct&gt;</th><th scope=col>&lt;int&gt;</th><th scope=col>&lt;fct&gt;</th><th scope=col>&lt;fct&gt;</th><th scope=col>&lt;fct&gt;</th><th scope=col>&lt;fct&gt;</th><th scope=col>&lt;fct&gt;</th><th scope=col>&lt;fct&gt;</th><th scope=col>&lt;fct&gt;</th><th scope=col>&lt;fct&gt;</th><th scope=col>&lt;fct&gt;</th><th scope=col>&lt;fct&gt;</th><th scope=col>&lt;lgl&gt;</th><th scope=col>&lt;fct&gt;</th><th scope=col>&lt;lgl&gt;</th><th scope=col>&lt;fct&gt;</th></tr>\n",
       "</thead>\n",
       "<tbody>\n",
       "\t<tr><th scope=row>1</th><td>2018-2019</td><td>NA</td><td>Statewide</td><td>NA</td><td>All Schools</td><td>Other                  </td><td>Economically Disadvantaged               </td><td>Mathematics</td><td>Well Below State Expectations</td><td>40,235</td><td>38,760</td><td>96.3%</td><td>15,427</td><td>39.8%</td><td>NA</td><td>39.8%</td><td>NA</td><td></td></tr>\n",
       "\t<tr><th scope=row>2</th><td>2018-2019</td><td>NA</td><td>Statewide</td><td>NA</td><td>All Schools</td><td>Racial/Ethnic Diversity</td><td>Black or African American                </td><td>Mathematics</td><td>Well Below State Expectations</td><td>3,656 </td><td>3,398 </td><td>92.9%</td><td>1,838 </td><td>54.1%</td><td>NA</td><td>54.1%</td><td>NA</td><td></td></tr>\n",
       "\t<tr><th scope=row>3</th><td>2018-2019</td><td>NA</td><td>Statewide</td><td>NA</td><td>All Schools</td><td>All Students           </td><td>All Students                             </td><td>Mathematics</td><td>Well Below State Expectations</td><td>93,610</td><td>90,640</td><td>96.8%</td><td>24,997</td><td>27.6%</td><td>NA</td><td>27.6%</td><td>NA</td><td></td></tr>\n",
       "\t<tr><th scope=row>4</th><td>2018-2019</td><td>NA</td><td>Statewide</td><td>NA</td><td>All Schools</td><td>Racial/Ethnic Diversity</td><td>Native Hawaiian or Other Pacific Islander</td><td>Mathematics</td><td>Well Below State Expectations</td><td>107   </td><td>103   </td><td>96.3%</td><td>29    </td><td>28.2%</td><td>NA</td><td>28.2%</td><td>NA</td><td></td></tr>\n",
       "\t<tr><th scope=row>5</th><td>2018-2019</td><td>NA</td><td>Statewide</td><td>NA</td><td>All Schools</td><td>Racial/Ethnic Diversity</td><td>Asian                                    </td><td>Mathematics</td><td>Well Below State Expectations</td><td>1,353 </td><td>1,329 </td><td>98.2%</td><td>233   </td><td>17.5%</td><td>NA</td><td>17.5%</td><td>NA</td><td></td></tr>\n",
       "\t<tr><th scope=row>6</th><td>2018-2019</td><td>NA</td><td>Statewide</td><td>NA</td><td>All Schools</td><td>Other                  </td><td>Students in Foster Care                  </td><td>Mathematics</td><td>Well Below State Expectations</td><td>523   </td><td>481   </td><td>92.0%</td><td>249   </td><td>51.8%</td><td>NA</td><td>51.8%</td><td>NA</td><td></td></tr>\n",
       "</tbody>\n",
       "</table>\n"
      ],
      "text/latex": [
       "A data.frame: 6 × 18\n",
       "\\begin{tabular}{r|llllllllllllllllll}\n",
       "  & Year & District.ID & District.Name & School.ID & School.Name & Disaggregated & Population & Assessment & Achievement.Level & Number.of.Students.Required.to.Test & Total.Students.Tested & Percentage.of.Students.Tested & Number.of.Students.at.Achievement.Level & Percentage.of.Students.at.Achievement.Level & District...Number.of.Students.at.Achievement.Level & District...Percentage.of.Students.at.Achievement.Level & Statewide...Number.of.Students.at.Achievement.Level & Statewide...Percentage.of.Students.at.Achievement.Level\\\\\n",
       "  & <fct> & <int> & <fct> & <int> & <fct> & <fct> & <fct> & <fct> & <fct> & <fct> & <fct> & <fct> & <fct> & <fct> & <lgl> & <fct> & <lgl> & <fct>\\\\\n",
       "\\hline\n",
       "\t1 & 2018-2019 & NA & Statewide & NA & All Schools & Other                   & Economically Disadvantaged                & Mathematics & Well Below State Expectations & 40,235 & 38,760 & 96.3\\% & 15,427 & 39.8\\% & NA & 39.8\\% & NA & \\\\\n",
       "\t2 & 2018-2019 & NA & Statewide & NA & All Schools & Racial/Ethnic Diversity & Black or African American                 & Mathematics & Well Below State Expectations & 3,656  & 3,398  & 92.9\\% & 1,838  & 54.1\\% & NA & 54.1\\% & NA & \\\\\n",
       "\t3 & 2018-2019 & NA & Statewide & NA & All Schools & All Students            & All Students                              & Mathematics & Well Below State Expectations & 93,610 & 90,640 & 96.8\\% & 24,997 & 27.6\\% & NA & 27.6\\% & NA & \\\\\n",
       "\t4 & 2018-2019 & NA & Statewide & NA & All Schools & Racial/Ethnic Diversity & Native Hawaiian or Other Pacific Islander & Mathematics & Well Below State Expectations & 107    & 103    & 96.3\\% & 29     & 28.2\\% & NA & 28.2\\% & NA & \\\\\n",
       "\t5 & 2018-2019 & NA & Statewide & NA & All Schools & Racial/Ethnic Diversity & Asian                                     & Mathematics & Well Below State Expectations & 1,353  & 1,329  & 98.2\\% & 233    & 17.5\\% & NA & 17.5\\% & NA & \\\\\n",
       "\t6 & 2018-2019 & NA & Statewide & NA & All Schools & Other                   & Students in Foster Care                   & Mathematics & Well Below State Expectations & 523    & 481    & 92.0\\% & 249    & 51.8\\% & NA & 51.8\\% & NA & \\\\\n",
       "\\end{tabular}\n"
      ],
      "text/markdown": [
       "\n",
       "A data.frame: 6 × 18\n",
       "\n",
       "| <!--/--> | Year &lt;fct&gt; | District.ID &lt;int&gt; | District.Name &lt;fct&gt; | School.ID &lt;int&gt; | School.Name &lt;fct&gt; | Disaggregated &lt;fct&gt; | Population &lt;fct&gt; | Assessment &lt;fct&gt; | Achievement.Level &lt;fct&gt; | Number.of.Students.Required.to.Test &lt;fct&gt; | Total.Students.Tested &lt;fct&gt; | Percentage.of.Students.Tested &lt;fct&gt; | Number.of.Students.at.Achievement.Level &lt;fct&gt; | Percentage.of.Students.at.Achievement.Level &lt;fct&gt; | District...Number.of.Students.at.Achievement.Level &lt;lgl&gt; | District...Percentage.of.Students.at.Achievement.Level &lt;fct&gt; | Statewide...Number.of.Students.at.Achievement.Level &lt;lgl&gt; | Statewide...Percentage.of.Students.at.Achievement.Level &lt;fct&gt; |\n",
       "|---|---|---|---|---|---|---|---|---|---|---|---|---|---|---|---|---|---|---|\n",
       "| 1 | 2018-2019 | NA | Statewide | NA | All Schools | Other                   | Economically Disadvantaged                | Mathematics | Well Below State Expectations | 40,235 | 38,760 | 96.3% | 15,427 | 39.8% | NA | 39.8% | NA | <!----> |\n",
       "| 2 | 2018-2019 | NA | Statewide | NA | All Schools | Racial/Ethnic Diversity | Black or African American                 | Mathematics | Well Below State Expectations | 3,656  | 3,398  | 92.9% | 1,838  | 54.1% | NA | 54.1% | NA | <!----> |\n",
       "| 3 | 2018-2019 | NA | Statewide | NA | All Schools | All Students            | All Students                              | Mathematics | Well Below State Expectations | 93,610 | 90,640 | 96.8% | 24,997 | 27.6% | NA | 27.6% | NA | <!----> |\n",
       "| 4 | 2018-2019 | NA | Statewide | NA | All Schools | Racial/Ethnic Diversity | Native Hawaiian or Other Pacific Islander | Mathematics | Well Below State Expectations | 107    | 103    | 96.3% | 29     | 28.2% | NA | 28.2% | NA | <!----> |\n",
       "| 5 | 2018-2019 | NA | Statewide | NA | All Schools | Racial/Ethnic Diversity | Asian                                     | Mathematics | Well Below State Expectations | 1,353  | 1,329  | 98.2% | 233    | 17.5% | NA | 17.5% | NA | <!----> |\n",
       "| 6 | 2018-2019 | NA | Statewide | NA | All Schools | Other                   | Students in Foster Care                   | Mathematics | Well Below State Expectations | 523    | 481    | 92.0% | 249    | 51.8% | NA | 51.8% | NA | <!----> |\n",
       "\n"
      ],
      "text/plain": [
       "  Year      District.ID District.Name School.ID School.Name\n",
       "1 2018-2019 NA          Statewide     NA        All Schools\n",
       "2 2018-2019 NA          Statewide     NA        All Schools\n",
       "3 2018-2019 NA          Statewide     NA        All Schools\n",
       "4 2018-2019 NA          Statewide     NA        All Schools\n",
       "5 2018-2019 NA          Statewide     NA        All Schools\n",
       "6 2018-2019 NA          Statewide     NA        All Schools\n",
       "  Disaggregated           Population                                Assessment \n",
       "1 Other                   Economically Disadvantaged                Mathematics\n",
       "2 Racial/Ethnic Diversity Black or African American                 Mathematics\n",
       "3 All Students            All Students                              Mathematics\n",
       "4 Racial/Ethnic Diversity Native Hawaiian or Other Pacific Islander Mathematics\n",
       "5 Racial/Ethnic Diversity Asian                                     Mathematics\n",
       "6 Other                   Students in Foster Care                   Mathematics\n",
       "  Achievement.Level             Number.of.Students.Required.to.Test\n",
       "1 Well Below State Expectations 40,235                             \n",
       "2 Well Below State Expectations 3,656                              \n",
       "3 Well Below State Expectations 93,610                             \n",
       "4 Well Below State Expectations 107                                \n",
       "5 Well Below State Expectations 1,353                              \n",
       "6 Well Below State Expectations 523                                \n",
       "  Total.Students.Tested Percentage.of.Students.Tested\n",
       "1 38,760                96.3%                        \n",
       "2 3,398                 92.9%                        \n",
       "3 90,640                96.8%                        \n",
       "4 103                   96.3%                        \n",
       "5 1,329                 98.2%                        \n",
       "6 481                   92.0%                        \n",
       "  Number.of.Students.at.Achievement.Level\n",
       "1 15,427                                 \n",
       "2 1,838                                  \n",
       "3 24,997                                 \n",
       "4 29                                     \n",
       "5 233                                    \n",
       "6 249                                    \n",
       "  Percentage.of.Students.at.Achievement.Level\n",
       "1 39.8%                                      \n",
       "2 54.1%                                      \n",
       "3 27.6%                                      \n",
       "4 28.2%                                      \n",
       "5 17.5%                                      \n",
       "6 51.8%                                      \n",
       "  District...Number.of.Students.at.Achievement.Level\n",
       "1 NA                                                \n",
       "2 NA                                                \n",
       "3 NA                                                \n",
       "4 NA                                                \n",
       "5 NA                                                \n",
       "6 NA                                                \n",
       "  District...Percentage.of.Students.at.Achievement.Level\n",
       "1 39.8%                                                 \n",
       "2 54.1%                                                 \n",
       "3 27.6%                                                 \n",
       "4 28.2%                                                 \n",
       "5 17.5%                                                 \n",
       "6 51.8%                                                 \n",
       "  Statewide...Number.of.Students.at.Achievement.Level\n",
       "1 NA                                                 \n",
       "2 NA                                                 \n",
       "3 NA                                                 \n",
       "4 NA                                                 \n",
       "5 NA                                                 \n",
       "6 NA                                                 \n",
       "  Statewide...Percentage.of.Students.at.Achievement.Level\n",
       "1                                                        \n",
       "2                                                        \n",
       "3                                                        \n",
       "4                                                        \n",
       "5                                                        \n",
       "6                                                        "
      ]
     },
     "execution_count": 13,
     "metadata": {
     },
     "output_type": "execute_result"
    }
   ],
   "source": [
    "head(data2)"
   ]
  },
  {
   "cell_type": "code",
   "execution_count": 14,
   "metadata": {
    "collapsed": false
   },
   "outputs": [
   ],
   "source": [
    "data_maybe <- data.frame(data2$District.Name, data2$School.Name, data2$Population, data2$Disaggregated, data2$Assessment, data2$Achievement.Level)"
   ]
  },
  {
   "cell_type": "code",
   "execution_count": 15,
   "metadata": {
    "collapsed": false
   },
   "outputs": [
    {
     "data": {
      "text/html": [
       "<table>\n",
       "<caption>A data.frame: 6 × 6</caption>\n",
       "<thead>\n",
       "\t<tr><th></th><th scope=col>data2.District.Name</th><th scope=col>data2.School.Name</th><th scope=col>data2.Population</th><th scope=col>data2.Disaggregated</th><th scope=col>data2.Assessment</th><th scope=col>data2.Achievement.Level</th></tr>\n",
       "\t<tr><th></th><th scope=col>&lt;fct&gt;</th><th scope=col>&lt;fct&gt;</th><th scope=col>&lt;fct&gt;</th><th scope=col>&lt;fct&gt;</th><th scope=col>&lt;fct&gt;</th><th scope=col>&lt;fct&gt;</th></tr>\n",
       "</thead>\n",
       "<tbody>\n",
       "\t<tr><th scope=row>1</th><td>Statewide</td><td>All Schools</td><td>Economically Disadvantaged               </td><td>Other                  </td><td>Mathematics</td><td>Well Below State Expectations</td></tr>\n",
       "\t<tr><th scope=row>2</th><td>Statewide</td><td>All Schools</td><td>Black or African American                </td><td>Racial/Ethnic Diversity</td><td>Mathematics</td><td>Well Below State Expectations</td></tr>\n",
       "\t<tr><th scope=row>3</th><td>Statewide</td><td>All Schools</td><td>All Students                             </td><td>All Students           </td><td>Mathematics</td><td>Well Below State Expectations</td></tr>\n",
       "\t<tr><th scope=row>4</th><td>Statewide</td><td>All Schools</td><td>Native Hawaiian or Other Pacific Islander</td><td>Racial/Ethnic Diversity</td><td>Mathematics</td><td>Well Below State Expectations</td></tr>\n",
       "\t<tr><th scope=row>5</th><td>Statewide</td><td>All Schools</td><td>Asian                                    </td><td>Racial/Ethnic Diversity</td><td>Mathematics</td><td>Well Below State Expectations</td></tr>\n",
       "\t<tr><th scope=row>6</th><td>Statewide</td><td>All Schools</td><td>Students in Foster Care                  </td><td>Other                  </td><td>Mathematics</td><td>Well Below State Expectations</td></tr>\n",
       "</tbody>\n",
       "</table>\n"
      ],
      "text/latex": [
       "A data.frame: 6 × 6\n",
       "\\begin{tabular}{r|llllll}\n",
       "  & data2.District.Name & data2.School.Name & data2.Population & data2.Disaggregated & data2.Assessment & data2.Achievement.Level\\\\\n",
       "  & <fct> & <fct> & <fct> & <fct> & <fct> & <fct>\\\\\n",
       "\\hline\n",
       "\t1 & Statewide & All Schools & Economically Disadvantaged                & Other                   & Mathematics & Well Below State Expectations\\\\\n",
       "\t2 & Statewide & All Schools & Black or African American                 & Racial/Ethnic Diversity & Mathematics & Well Below State Expectations\\\\\n",
       "\t3 & Statewide & All Schools & All Students                              & All Students            & Mathematics & Well Below State Expectations\\\\\n",
       "\t4 & Statewide & All Schools & Native Hawaiian or Other Pacific Islander & Racial/Ethnic Diversity & Mathematics & Well Below State Expectations\\\\\n",
       "\t5 & Statewide & All Schools & Asian                                     & Racial/Ethnic Diversity & Mathematics & Well Below State Expectations\\\\\n",
       "\t6 & Statewide & All Schools & Students in Foster Care                   & Other                   & Mathematics & Well Below State Expectations\\\\\n",
       "\\end{tabular}\n"
      ],
      "text/markdown": [
       "\n",
       "A data.frame: 6 × 6\n",
       "\n",
       "| <!--/--> | data2.District.Name &lt;fct&gt; | data2.School.Name &lt;fct&gt; | data2.Population &lt;fct&gt; | data2.Disaggregated &lt;fct&gt; | data2.Assessment &lt;fct&gt; | data2.Achievement.Level &lt;fct&gt; |\n",
       "|---|---|---|---|---|---|---|\n",
       "| 1 | Statewide | All Schools | Economically Disadvantaged                | Other                   | Mathematics | Well Below State Expectations |\n",
       "| 2 | Statewide | All Schools | Black or African American                 | Racial/Ethnic Diversity | Mathematics | Well Below State Expectations |\n",
       "| 3 | Statewide | All Schools | All Students                              | All Students            | Mathematics | Well Below State Expectations |\n",
       "| 4 | Statewide | All Schools | Native Hawaiian or Other Pacific Islander | Racial/Ethnic Diversity | Mathematics | Well Below State Expectations |\n",
       "| 5 | Statewide | All Schools | Asian                                     | Racial/Ethnic Diversity | Mathematics | Well Below State Expectations |\n",
       "| 6 | Statewide | All Schools | Students in Foster Care                   | Other                   | Mathematics | Well Below State Expectations |\n",
       "\n"
      ],
      "text/plain": [
       "  data2.District.Name data2.School.Name\n",
       "1 Statewide           All Schools      \n",
       "2 Statewide           All Schools      \n",
       "3 Statewide           All Schools      \n",
       "4 Statewide           All Schools      \n",
       "5 Statewide           All Schools      \n",
       "6 Statewide           All Schools      \n",
       "  data2.Population                          data2.Disaggregated    \n",
       "1 Economically Disadvantaged                Other                  \n",
       "2 Black or African American                 Racial/Ethnic Diversity\n",
       "3 All Students                              All Students           \n",
       "4 Native Hawaiian or Other Pacific Islander Racial/Ethnic Diversity\n",
       "5 Asian                                     Racial/Ethnic Diversity\n",
       "6 Students in Foster Care                   Other                  \n",
       "  data2.Assessment data2.Achievement.Level      \n",
       "1 Mathematics      Well Below State Expectations\n",
       "2 Mathematics      Well Below State Expectations\n",
       "3 Mathematics      Well Below State Expectations\n",
       "4 Mathematics      Well Below State Expectations\n",
       "5 Mathematics      Well Below State Expectations\n",
       "6 Mathematics      Well Below State Expectations"
      ]
     },
     "execution_count": 15,
     "metadata": {
     },
     "output_type": "execute_result"
    }
   ],
   "source": [
    "head(data_maybe)"
   ]
  },
  {
   "cell_type": "code",
   "execution_count": 16,
   "metadata": {
    "collapsed": false,
    "scrolled": true
   },
   "outputs": [
   ],
   "source": [
    "index <- which(data2$District.Name == \"Lewiston Public Schools\" & data2$School.Name != \"All Schools\")"
   ]
  },
  {
   "cell_type": "code",
   "execution_count": 17,
   "metadata": {
    "collapsed": false,
    "scrolled": true
   },
   "outputs": [
   ],
   "source": [
    "new_data <- data_maybe[index,]"
   ]
  },
  {
   "cell_type": "code",
   "execution_count": 18,
   "metadata": {
    "collapsed": false,
    "scrolled": true
   },
   "outputs": [
    {
     "data": {
      "text/html": [
       "<table>\n",
       "<caption>A data.frame: 6 × 6</caption>\n",
       "<thead>\n",
       "\t<tr><th></th><th scope=col>data2.District.Name</th><th scope=col>data2.School.Name</th><th scope=col>data2.Population</th><th scope=col>data2.Disaggregated</th><th scope=col>data2.Assessment</th><th scope=col>data2.Achievement.Level</th></tr>\n",
       "\t<tr><th></th><th scope=col>&lt;fct&gt;</th><th scope=col>&lt;fct&gt;</th><th scope=col>&lt;fct&gt;</th><th scope=col>&lt;fct&gt;</th><th scope=col>&lt;fct&gt;</th><th scope=col>&lt;fct&gt;</th></tr>\n",
       "</thead>\n",
       "<tbody>\n",
       "\t<tr><th scope=row>62959</th><td>Lewiston Public Schools</td><td>Farwell Elementary School</td><td>Economically Disadvantaged               </td><td>Other                  </td><td>Mathematics</td><td>Well Below State Expectations</td></tr>\n",
       "\t<tr><th scope=row>62960</th><td>Lewiston Public Schools</td><td>Farwell Elementary School</td><td>Black or African American                </td><td>Racial/Ethnic Diversity</td><td>Mathematics</td><td>Well Below State Expectations</td></tr>\n",
       "\t<tr><th scope=row>62961</th><td>Lewiston Public Schools</td><td>Farwell Elementary School</td><td>All Students                             </td><td>All Students           </td><td>Mathematics</td><td>Well Below State Expectations</td></tr>\n",
       "\t<tr><th scope=row>62962</th><td>Lewiston Public Schools</td><td>Farwell Elementary School</td><td>Native Hawaiian or Other Pacific Islander</td><td>Racial/Ethnic Diversity</td><td>Mathematics</td><td>Well Below State Expectations</td></tr>\n",
       "\t<tr><th scope=row>62963</th><td>Lewiston Public Schools</td><td>Farwell Elementary School</td><td>Asian                                    </td><td>Racial/Ethnic Diversity</td><td>Mathematics</td><td>Well Below State Expectations</td></tr>\n",
       "\t<tr><th scope=row>62964</th><td>Lewiston Public Schools</td><td>Farwell Elementary School</td><td>White                                    </td><td>Racial/Ethnic Diversity</td><td>Mathematics</td><td>Well Below State Expectations</td></tr>\n",
       "</tbody>\n",
       "</table>\n"
      ],
      "text/latex": [
       "A data.frame: 6 × 6\n",
       "\\begin{tabular}{r|llllll}\n",
       "  & data2.District.Name & data2.School.Name & data2.Population & data2.Disaggregated & data2.Assessment & data2.Achievement.Level\\\\\n",
       "  & <fct> & <fct> & <fct> & <fct> & <fct> & <fct>\\\\\n",
       "\\hline\n",
       "\t62959 & Lewiston Public Schools & Farwell Elementary School & Economically Disadvantaged                & Other                   & Mathematics & Well Below State Expectations\\\\\n",
       "\t62960 & Lewiston Public Schools & Farwell Elementary School & Black or African American                 & Racial/Ethnic Diversity & Mathematics & Well Below State Expectations\\\\\n",
       "\t62961 & Lewiston Public Schools & Farwell Elementary School & All Students                              & All Students            & Mathematics & Well Below State Expectations\\\\\n",
       "\t62962 & Lewiston Public Schools & Farwell Elementary School & Native Hawaiian or Other Pacific Islander & Racial/Ethnic Diversity & Mathematics & Well Below State Expectations\\\\\n",
       "\t62963 & Lewiston Public Schools & Farwell Elementary School & Asian                                     & Racial/Ethnic Diversity & Mathematics & Well Below State Expectations\\\\\n",
       "\t62964 & Lewiston Public Schools & Farwell Elementary School & White                                     & Racial/Ethnic Diversity & Mathematics & Well Below State Expectations\\\\\n",
       "\\end{tabular}\n"
      ],
      "text/markdown": [
       "\n",
       "A data.frame: 6 × 6\n",
       "\n",
       "| <!--/--> | data2.District.Name &lt;fct&gt; | data2.School.Name &lt;fct&gt; | data2.Population &lt;fct&gt; | data2.Disaggregated &lt;fct&gt; | data2.Assessment &lt;fct&gt; | data2.Achievement.Level &lt;fct&gt; |\n",
       "|---|---|---|---|---|---|---|\n",
       "| 62959 | Lewiston Public Schools | Farwell Elementary School | Economically Disadvantaged                | Other                   | Mathematics | Well Below State Expectations |\n",
       "| 62960 | Lewiston Public Schools | Farwell Elementary School | Black or African American                 | Racial/Ethnic Diversity | Mathematics | Well Below State Expectations |\n",
       "| 62961 | Lewiston Public Schools | Farwell Elementary School | All Students                              | All Students            | Mathematics | Well Below State Expectations |\n",
       "| 62962 | Lewiston Public Schools | Farwell Elementary School | Native Hawaiian or Other Pacific Islander | Racial/Ethnic Diversity | Mathematics | Well Below State Expectations |\n",
       "| 62963 | Lewiston Public Schools | Farwell Elementary School | Asian                                     | Racial/Ethnic Diversity | Mathematics | Well Below State Expectations |\n",
       "| 62964 | Lewiston Public Schools | Farwell Elementary School | White                                     | Racial/Ethnic Diversity | Mathematics | Well Below State Expectations |\n",
       "\n"
      ],
      "text/plain": [
       "      data2.District.Name     data2.School.Name        \n",
       "62959 Lewiston Public Schools Farwell Elementary School\n",
       "62960 Lewiston Public Schools Farwell Elementary School\n",
       "62961 Lewiston Public Schools Farwell Elementary School\n",
       "62962 Lewiston Public Schools Farwell Elementary School\n",
       "62963 Lewiston Public Schools Farwell Elementary School\n",
       "62964 Lewiston Public Schools Farwell Elementary School\n",
       "      data2.Population                          data2.Disaggregated    \n",
       "62959 Economically Disadvantaged                Other                  \n",
       "62960 Black or African American                 Racial/Ethnic Diversity\n",
       "62961 All Students                              All Students           \n",
       "62962 Native Hawaiian or Other Pacific Islander Racial/Ethnic Diversity\n",
       "62963 Asian                                     Racial/Ethnic Diversity\n",
       "62964 White                                     Racial/Ethnic Diversity\n",
       "      data2.Assessment data2.Achievement.Level      \n",
       "62959 Mathematics      Well Below State Expectations\n",
       "62960 Mathematics      Well Below State Expectations\n",
       "62961 Mathematics      Well Below State Expectations\n",
       "62962 Mathematics      Well Below State Expectations\n",
       "62963 Mathematics      Well Below State Expectations\n",
       "62964 Mathematics      Well Below State Expectations"
      ]
     },
     "execution_count": 18,
     "metadata": {
     },
     "output_type": "execute_result"
    }
   ],
   "source": [
    "head(new_data)"
   ]
  },
  {
   "cell_type": "code",
   "execution_count": 19,
   "metadata": {
    "collapsed": false
   },
   "outputs": [
    {
     "name": "stderr",
     "output_type": "stream",
     "text": [
      "Warning message in stri_replace_first_regex(string, pattern, fix_replacement(replacement), :\n",
      "“argument is not an atomic vector; coercing”"
     ]
    }
   ],
   "source": [
    "\n",
    "new_data <- str_replace(new_data, \"Well Below State Expectations\", \"0\")"
   ]
  },
  {
   "cell_type": "code",
   "execution_count": 20,
   "metadata": {
    "collapsed": false,
    "scrolled": true
   },
   "outputs": [
    {
     "name": "stderr",
     "output_type": "stream",
     "text": [
      "WARNING: 1 intermediate output message was discarded.\n"
     ]
    }
   ],
   "source": [
    "head(new_data)"
   ]
  },
  {
   "cell_type": "code",
   "execution_count": 21,
   "metadata": {
    "collapsed": false
   },
   "outputs": [
   ],
   "source": [
    "#write.csv(new_data,'Cleaned_Book.csv')"
   ]
  },
  {
   "cell_type": "code",
   "execution_count": 0,
   "metadata": {
    "collapsed": false
   },
   "outputs": [
   ],
   "source": [
   ]
  }
 ],
 "metadata": {
  "kernelspec": {
   "display_name": "R (R-Project)",
   "language": "r",
   "metadata": {
    "cocalc": {
     "description": "R statistical programming language",
     "priority": 10,
     "url": "https://www.r-project.org/"
    }
   },
   "name": "ir"
  },
  "language_info": {
   "codemirror_mode": "r",
   "file_extension": ".r",
   "mimetype": "text/x-r-source",
   "name": "R",
   "pygments_lexer": "r",
   "version": "3.6.3"
  }
 },
 "nbformat": 4,
 "nbformat_minor": 4
}